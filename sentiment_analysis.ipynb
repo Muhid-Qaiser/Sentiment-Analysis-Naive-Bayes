{
 "cells": [
  {
   "cell_type": "code",
   "execution_count": 3,
   "metadata": {},
   "outputs": [
    {
     "data": {
      "text/plain": [
       "['Text,Label\\n',\n",
       " '\"The financial markets are influenced by a myriad of factors, making predictions difficult.\",positive\\n',\n",
       " '\"Financial literacy is essential for making informed decisions about investments and savings.\",positive\\n',\n",
       " '\"The stock market can be volatile, with prices fluctuating based on investor sentiment and economic indicators.\",positive\\n',\n",
       " '\"Financial regulations aim to protect investors and maintain the stability of the financial system.\",positive\\n',\n",
       " '\"Access to credit and capital is essential for promoting economic growth and entrepreneurship.\",positive\\n',\n",
       " '\"The complexity of financial products can make it challenging for consumers to understand their risks.\",negative\\n',\n",
       " '\"High-frequency trading algorithms can exacerbate market volatility and lead to flash crashes.\",negative\\n',\n",
       " '\"Financial institutions play a crucial role in allocating capital and facilitating economic activity.\",positive\\n',\n",
       " '\"Credit rating agencies are susceptible to conflicts of interest and may not always provide accurate assessments.\",negative\\n',\n",
       " '\"The global financial system is interconnected, with events in one market having ripple effects worldwide.\",positive\\n',\n",
       " '\"Financial derivatives can be used to hedge against risk or speculate on future price movements.\",positive\\n',\n",
       " '\"Financial markets are influenced by psychological factors such as fear, greed, and optimism.\",positive\\n',\n",
       " '\"Financial bubbles can form when asset prices become disconnected from their intrinsic value.\",negative\\n',\n",
       " '\"Financial innovations have the potential to drive economic growth and improve financial inclusion.\",positive\\n',\n",
       " '\"Market inefficiencies can create opportunities for investors to generate alpha through active management.\",positive\\n',\n",
       " '\"The use of leverage in financial markets amplifies both gains and losses for investors.\",negative\\n',\n",
       " '\"Financial literacy programs aim to empower individuals to make sound financial decisions.\",positive\\n',\n",
       " '\"Asset allocation is a key strategy for managing risk and achieving long-term financial goals.\",positive\\n',\n",
       " '\"The practice of short selling allows investors to profit from declining prices in financial markets.\",positive\\n',\n",
       " '\"Financial markets are influenced by macroeconomic indicators such as GDP growth and inflation rates.\",positive\\n',\n",
       " '\"Financial regulators face challenges in keeping pace with rapid technological advancements in the industry.\",negative\\n',\n",
       " '\"Algorithmic trading strategies can contribute to market liquidity but also increase systemic risk.\",positive\\n',\n",
       " '\"Financial advisors have a fiduciary duty to act in the best interests of their clients.\",positive\\n',\n",
       " '\"Financial crises can have far-reaching consequences for economies and societies, requiring coordinated responses.\",positive\\n',\n",
       " '\"The complexity of financial instruments can obscure underlying risks and lead to market distortions.\",negative\\n',\n",
       " '\"Financial markets play a crucial role in allocating resources and pricing assets based on supply and demand.\",positive\\n',\n",
       " '\"The practice of front-running in financial markets undermines trust and integrity.\",negative\\n',\n",
       " '\"Financial education should be integrated into school curricula to promote responsible financial behavior.\",positive\\n',\n",
       " '\"Financial institutions are vulnerable to cyber attacks and data breaches, posing risks to customer information.\",negative\\n',\n",
       " '\"Financial analysts use a variety of tools and techniques to evaluate investment opportunities.\",positive\\n',\n",
       " '\"The principles of diversification and asset allocation are fundamental to building a resilient investment portfolio.\",positive\\n',\n",
       " '\"Financial markets are influenced by geopolitical events, government policies, and regulatory changes.\",positive\\n',\n",
       " '\"The pursuit of short-term profits can lead to unsustainable practices and market distortions.\",negative\\n',\n",
       " '\"Financial regulations aim to strike a balance between market innovation and investor protection.\",positive\\n',\n",
       " '\"Financial markets are susceptible to manipulation and insider trading, undermining market integrity.\",negative\\n',\n",
       " '\"The concept of risk-adjusted returns is essential for evaluating the performance of investment portfolios.\",positive\\n',\n",
       " '\"Financial institutions play a critical role in allocating capital to productive investments.\",positive\\n',\n",
       " '\"Financial intermediaries facilitate the flow of funds between savers and borrowers in the economy.\",positive\\n',\n",
       " '\"The financialization of the economy has led to increased volatility and systemic risks.\",negative\\n',\n",
       " '\"Financial markets provide opportunities for individuals to invest in companies and participate in economic growth.\",positive\\n',\n",
       " '\"The regulatory environment for financial services is constantly evolving to address emerging risks and challenges.\",positive\\n',\n",
       " '\"Financial engineering techniques allow firms to manage risks and optimize their capital structures.\",positive\\n',\n",
       " '\"Financial literacy empowers individuals to make informed decisions about borrowing, saving, and investing.\",positive\\n',\n",
       " '\"Financial markets play a crucial role in allocating resources and pricing assets based on supply and demand dynamics.\",positive\\n',\n",
       " '\"Financial globalization has increased the interconnectedness of markets and the transmission of financial shocks.\",positive\\n',\n",
       " '\"The use of leverage in financial markets amplifies both gains and losses, increasing the potential for volatility.\",negative\\n',\n",
       " '\"Financial institutions play a pivotal role in facilitating economic transactions and allocating resources efficiently.\",positive\\n',\n",
       " '\"Financial bubbles can arise when asset prices become detached from their underlying fundamentals.\",negative\\n']"
      ]
     },
     "execution_count": 3,
     "metadata": {},
     "output_type": "execute_result"
    }
   ],
   "source": [
    "with open(\"Finance.csv\", \"r\", encoding=\"utf-8\") as f:\n",
    "    data = f.readlines()\n",
    "\n",
    "data[:100]"
   ]
  },
  {
   "cell_type": "code",
   "execution_count": 27,
   "metadata": {},
   "outputs": [],
   "source": [
    "# preprocessed_data = []\n",
    "# new_row = []\n",
    "\n",
    "# for row in data[1:]:\n",
    "#     if row[:2] == \"0,\" or row[:2] == \"1,\":\n",
    "#         if new_row:\n",
    "#             preprocessed_data.append(new_row)\n",
    "#         new_row = []\n",
    "#         new_row.append(row)\n",
    "#     else:\n",
    "#         new_row[-1] = new_row[-1] + row\n",
    "\n",
    "\n",
    "# preprocessed_data[:100]"
   ]
  },
  {
   "cell_type": "code",
   "execution_count": 20,
   "metadata": {},
   "outputs": [],
   "source": [
    "X = []\n",
    "y = []\n",
    "\n",
    "for row in data[1:]:   \n",
    "    # y.append(row[0][:1])\n",
    "    # X.append(row[0][2:])\n",
    "    y.append(row[-9:-1])\n",
    "    X.append(row[:-10])\n",
    "    "
   ]
  },
  {
   "cell_type": "code",
   "execution_count": 21,
   "metadata": {},
   "outputs": [
    {
     "data": {
      "text/plain": [
       "['\"The financial markets are influenced by a myriad of factors, making predictions difficult.\"',\n",
       " '\"Financial literacy is essential for making informed decisions about investments and savings.\"',\n",
       " '\"The stock market can be volatile, with prices fluctuating based on investor sentiment and economic indicators.\"',\n",
       " '\"Financial regulations aim to protect investors and maintain the stability of the financial system.\"',\n",
       " '\"Access to credit and capital is essential for promoting economic growth and entrepreneurship.\"',\n",
       " '\"The complexity of financial products can make it challenging for consumers to understand their risks.\"',\n",
       " '\"High-frequency trading algorithms can exacerbate market volatility and lead to flash crashes.\"',\n",
       " '\"Financial institutions play a crucial role in allocating capital and facilitating economic activity.\"',\n",
       " '\"Credit rating agencies are susceptible to conflicts of interest and may not always provide accurate assessments.\"',\n",
       " '\"The global financial system is interconnected, with events in one market having ripple effects worldwide.\"']"
      ]
     },
     "execution_count": 21,
     "metadata": {},
     "output_type": "execute_result"
    }
   ],
   "source": [
    "X[:10]"
   ]
  },
  {
   "cell_type": "code",
   "execution_count": 22,
   "metadata": {},
   "outputs": [
    {
     "data": {
      "text/plain": [
       "['positive',\n",
       " 'positive',\n",
       " 'positive',\n",
       " 'positive',\n",
       " 'positive',\n",
       " 'negative',\n",
       " 'negative',\n",
       " 'positive',\n",
       " 'negative',\n",
       " 'positive']"
      ]
     },
     "execution_count": 22,
     "metadata": {},
     "output_type": "execute_result"
    }
   ],
   "source": [
    "y[:10]"
   ]
  },
  {
   "cell_type": "code",
   "execution_count": 23,
   "metadata": {},
   "outputs": [
    {
     "name": "stderr",
     "output_type": "stream",
     "text": [
      "[nltk_data] Downloading package stopwords to\n",
      "[nltk_data]     C:\\Users\\pc\\AppData\\Roaming\\nltk_data...\n",
      "[nltk_data]   Package stopwords is already up-to-date!\n",
      "[nltk_data] Downloading package punkt to\n",
      "[nltk_data]     C:\\Users\\pc\\AppData\\Roaming\\nltk_data...\n",
      "[nltk_data]   Package punkt is already up-to-date!\n"
     ]
    },
    {
     "data": {
      "text/plain": [
       "{'a',\n",
       " 'about',\n",
       " 'above',\n",
       " 'after',\n",
       " 'again',\n",
       " 'against',\n",
       " 'ain',\n",
       " 'all',\n",
       " 'am',\n",
       " 'an',\n",
       " 'and',\n",
       " 'any',\n",
       " 'are',\n",
       " 'aren',\n",
       " \"aren't\",\n",
       " 'as',\n",
       " 'at',\n",
       " 'be',\n",
       " 'because',\n",
       " 'been',\n",
       " 'before',\n",
       " 'being',\n",
       " 'below',\n",
       " 'between',\n",
       " 'both',\n",
       " 'but',\n",
       " 'by',\n",
       " 'can',\n",
       " 'couldn',\n",
       " \"couldn't\",\n",
       " 'd',\n",
       " 'did',\n",
       " 'didn',\n",
       " \"didn't\",\n",
       " 'do',\n",
       " 'does',\n",
       " 'doesn',\n",
       " \"doesn't\",\n",
       " 'doing',\n",
       " 'don',\n",
       " \"don't\",\n",
       " 'down',\n",
       " 'during',\n",
       " 'each',\n",
       " 'few',\n",
       " 'for',\n",
       " 'from',\n",
       " 'further',\n",
       " 'had',\n",
       " 'hadn',\n",
       " \"hadn't\",\n",
       " 'has',\n",
       " 'hasn',\n",
       " \"hasn't\",\n",
       " 'have',\n",
       " 'haven',\n",
       " \"haven't\",\n",
       " 'having',\n",
       " 'he',\n",
       " 'her',\n",
       " 'here',\n",
       " 'hers',\n",
       " 'herself',\n",
       " 'him',\n",
       " 'himself',\n",
       " 'his',\n",
       " 'how',\n",
       " 'i',\n",
       " 'if',\n",
       " 'in',\n",
       " 'into',\n",
       " 'is',\n",
       " 'isn',\n",
       " \"isn't\",\n",
       " 'it',\n",
       " \"it's\",\n",
       " 'its',\n",
       " 'itself',\n",
       " 'just',\n",
       " 'll',\n",
       " 'm',\n",
       " 'ma',\n",
       " 'me',\n",
       " 'mightn',\n",
       " \"mightn't\",\n",
       " 'more',\n",
       " 'most',\n",
       " 'mustn',\n",
       " \"mustn't\",\n",
       " 'my',\n",
       " 'myself',\n",
       " 'needn',\n",
       " \"needn't\",\n",
       " 'no',\n",
       " 'nor',\n",
       " 'not',\n",
       " 'now',\n",
       " 'o',\n",
       " 'of',\n",
       " 'off',\n",
       " 'on',\n",
       " 'once',\n",
       " 'only',\n",
       " 'or',\n",
       " 'other',\n",
       " 'our',\n",
       " 'ours',\n",
       " 'ourselves',\n",
       " 'out',\n",
       " 'over',\n",
       " 'own',\n",
       " 're',\n",
       " 's',\n",
       " 'same',\n",
       " 'shan',\n",
       " \"shan't\",\n",
       " 'she',\n",
       " \"she's\",\n",
       " 'should',\n",
       " \"should've\",\n",
       " 'shouldn',\n",
       " \"shouldn't\",\n",
       " 'so',\n",
       " 'some',\n",
       " 'such',\n",
       " 't',\n",
       " 'than',\n",
       " 'that',\n",
       " \"that'll\",\n",
       " 'the',\n",
       " 'their',\n",
       " 'theirs',\n",
       " 'them',\n",
       " 'themselves',\n",
       " 'then',\n",
       " 'there',\n",
       " 'these',\n",
       " 'they',\n",
       " 'this',\n",
       " 'those',\n",
       " 'through',\n",
       " 'to',\n",
       " 'too',\n",
       " 'under',\n",
       " 'until',\n",
       " 'up',\n",
       " 've',\n",
       " 'very',\n",
       " 'was',\n",
       " 'wasn',\n",
       " \"wasn't\",\n",
       " 'we',\n",
       " 'were',\n",
       " 'weren',\n",
       " \"weren't\",\n",
       " 'what',\n",
       " 'when',\n",
       " 'where',\n",
       " 'which',\n",
       " 'while',\n",
       " 'who',\n",
       " 'whom',\n",
       " 'why',\n",
       " 'will',\n",
       " 'with',\n",
       " 'won',\n",
       " \"won't\",\n",
       " 'wouldn',\n",
       " \"wouldn't\",\n",
       " 'y',\n",
       " 'you',\n",
       " \"you'd\",\n",
       " \"you'll\",\n",
       " \"you're\",\n",
       " \"you've\",\n",
       " 'your',\n",
       " 'yours',\n",
       " 'yourself',\n",
       " 'yourselves'}"
      ]
     },
     "execution_count": 23,
     "metadata": {},
     "output_type": "execute_result"
    }
   ],
   "source": [
    "import nltk\n",
    "import string\n",
    "nltk.download('stopwords')\n",
    "from nltk.corpus import stopwords\n",
    "stop_words = set(stopwords.words('english'))\n",
    "nltk.download('punkt')\n",
    "punctuation = set(string.punctuation)\n",
    "stop_words"
   ]
  },
  {
   "cell_type": "code",
   "execution_count": 24,
   "metadata": {},
   "outputs": [
    {
     "data": {
      "text/plain": [
       "{'!',\n",
       " '\"',\n",
       " '#',\n",
       " '$',\n",
       " '%',\n",
       " '&',\n",
       " \"'\",\n",
       " '(',\n",
       " ')',\n",
       " '*',\n",
       " '+',\n",
       " ',',\n",
       " '-',\n",
       " '.',\n",
       " '/',\n",
       " ':',\n",
       " ';',\n",
       " '<',\n",
       " '=',\n",
       " '>',\n",
       " '?',\n",
       " '@',\n",
       " '[',\n",
       " '\\\\',\n",
       " ']',\n",
       " '^',\n",
       " '_',\n",
       " '`',\n",
       " '``',\n",
       " '{',\n",
       " '|',\n",
       " '}',\n",
       " '~'}"
      ]
     },
     "execution_count": 24,
     "metadata": {},
     "output_type": "execute_result"
    }
   ],
   "source": [
    "punctuation.add(\"``\")\n",
    "punctuation"
   ]
  },
  {
   "cell_type": "code",
   "execution_count": 25,
   "metadata": {},
   "outputs": [],
   "source": [
    "def remove_stopwords(text):\n",
    "    text = text.lower()\n",
    "    words = text.split()\n",
    "    words = [word for word in words if word not in stop_words]\n",
    "    words = [word for word in words if word not in punctuation]\n",
    "    for idx, word in enumerate(words):\n",
    "        for punc in punctuation:\n",
    "            if punc in word:\n",
    "                words[idx] = word.replace(punc, \"\")\n",
    "    words = [word for word in words if word.isalpha()]\n",
    "    return \" \".join(words)"
   ]
  },
  {
   "cell_type": "code",
   "execution_count": 26,
   "metadata": {},
   "outputs": [
    {
     "data": {
      "text/plain": [
       "['The financial markets influenced myriad factors making predictions difficult',\n",
       " 'Financial literacy essential making informed decisions investments savings',\n",
       " 'The stock market volatile prices fluctuating based investor sentiment economic indicators',\n",
       " 'Financial regulations aim protect investors maintain stability financial system',\n",
       " 'Access credit capital essential promoting economic growth entrepreneurship',\n",
       " 'The complexity financial products make challenging consumers understand risks',\n",
       " 'Highfrequency trading algorithms exacerbate market volatility lead flash crashes',\n",
       " 'Financial institutions play crucial role allocating capital facilitating economic activity',\n",
       " 'Credit rating agencies susceptible conflicts interest may always provide accurate assessments',\n",
       " 'The global financial system interconnected events one market ripple effects worldwide']"
      ]
     },
     "execution_count": 26,
     "metadata": {},
     "output_type": "execute_result"
    }
   ],
   "source": [
    "preprocessed_X = []\n",
    "\n",
    "for text in X:\n",
    "    new_text = []\n",
    "    for word in text.split():\n",
    "        if word not in stop_words and word not in punctuation:\n",
    "            for punc in punctuation:\n",
    "                word = word.replace(punc, \"\")\n",
    "            if word.isalpha():\n",
    "                new_text.append(word)\n",
    "    preprocessed_X.append(\" \".join(new_text))\n",
    "            \n",
    "\n",
    "preprocessed_X[:10]"
   ]
  },
  {
   "cell_type": "code",
   "execution_count": 27,
   "metadata": {},
   "outputs": [
    {
     "data": {
      "text/plain": [
       "275"
      ]
     },
     "execution_count": 27,
     "metadata": {},
     "output_type": "execute_result"
    }
   ],
   "source": [
    "vocab = set()\n",
    "\n",
    "for text in preprocessed_X:\n",
    "    for word in text.split():\n",
    "        vocab.add(word)\n",
    "\n",
    "vocab = sorted(vocab)\n",
    "len(vocab)"
   ]
  },
  {
   "cell_type": "code",
   "execution_count": 29,
   "metadata": {},
   "outputs": [
    {
     "name": "stdout",
     "output_type": "stream",
     "text": [
      "{'\"the': 1, 'financial': 10, 'markets': 8, 'are': 5, 'influenced': 4, 'by': 4, 'a': 11, 'myriad': 1, 'of': 11, 'factors,': 1, 'making': 2, 'predictions': 1, 'difficult.\"': 1, '\"financial': 1, 'literacy': 3, 'is': 6, 'essential': 3, 'for': 8, 'informed': 2, 'decisions': 2, 'about': 2, 'investments': 1, 'and': 26, 'savings.\"': 1, 'stock': 1, 'market': 4, 'can': 5, 'be': 3, 'volatile,': 1, 'with': 2, 'prices': 2, 'fluctuating': 1, 'based': 3, 'on': 4, 'investor': 2, 'sentiment': 1, 'economic': 6, 'indicators.\"': 1, 'regulations': 2, 'aim': 3, 'to': 19, 'protect': 1, 'investors': 3, 'maintain': 1, 'the': 9, 'stability': 1, 'system.\"': 1, '\"access': 1, 'credit': 1, 'capital': 4, 'promoting': 1, 'growth': 3, 'entrepreneurship.\"': 1, 'institutions': 3, 'play': 5, 'crucial': 3, 'role': 5, 'in': 11, 'allocating': 5, 'facilitating': 2, 'activity.\"': 1, 'global': 1, 'system': 1, 'interconnected,': 1, 'events': 1, 'one': 1, 'having': 1, 'ripple': 1, 'effects': 1, 'worldwide.\"': 1, 'derivatives': 1, 'used': 1, 'hedge': 1, 'against': 1, 'risk': 2, 'or': 1, 'speculate': 1, 'future': 1, 'price': 1, 'movements.\"': 1, 'psychological': 1, 'factors': 1, 'such': 2, 'as': 2, 'fear,': 1, 'greed,': 1, 'optimism.\"': 1, 'innovations': 1, 'have': 3, 'potential': 1, 'drive': 1, 'improve': 1, 'inclusion.\"': 1, '\"market': 1, 'inefficiencies': 1, 'create': 1, 'opportunities': 2, 'generate': 1, 'alpha': 1, 'through': 1, 'active': 1, 'management.\"': 1, 'programs': 1, 'empower': 1, 'individuals': 3, 'make': 2, 'sound': 1, 'decisions.\"': 1, '\"asset': 1, 'allocation': 2, 'key': 1, 'strategy': 1, 'managing': 1, 'achieving': 1, 'long-term': 1, 'goals.\"': 1, 'practice': 1, 'short': 1, 'selling': 1, 'allows': 1, 'profit': 1, 'from': 1, 'declining': 1, 'markets.\"': 1, 'macroeconomic': 1, 'indicators': 1, 'gdp': 1, 'inflation': 1, 'rates.\"': 1, '\"algorithmic': 1, 'trading': 1, 'strategies': 1, 'contribute': 1, 'liquidity': 1, 'but': 1, 'also': 1, 'increase': 1, 'systemic': 1, 'risk.\"': 1, 'advisors': 1, 'fiduciary': 1, 'duty': 1, 'act': 1, 'best': 1, 'interests': 1, 'their': 2, 'clients.\"': 1, 'crises': 1, 'far-reaching': 1, 'consequences': 1, 'economies': 1, 'societies,': 1, 'requiring': 1, 'coordinated': 1, 'responses.\"': 1, 'resources': 3, 'pricing': 2, 'assets': 2, 'supply': 2, 'demand.\"': 1, 'education': 1, 'should': 1, 'integrated': 1, 'into': 1, 'school': 1, 'curricula': 1, 'promote': 1, 'responsible': 1, 'behavior.\"': 1, 'analysts': 1, 'use': 1, 'variety': 1, 'tools': 1, 'techniques': 2, 'evaluate': 1, 'investment': 3, 'opportunities.\"': 1, 'principles': 1, 'diversification': 1, 'asset': 1, 'fundamental': 1, 'building': 1, 'resilient': 1, 'portfolio.\"': 1, 'geopolitical': 1, 'events,': 1, 'government': 1, 'policies,': 1, 'regulatory': 2, 'changes.\"': 1, 'strike': 1, 'balance': 1, 'between': 2, 'innovation': 1, 'protection.\"': 1, 'concept': 1, 'risk-adjusted': 1, 'returns': 1, 'evaluating': 1, 'performance': 1, 'portfolios.\"': 1, 'critical': 1, 'productive': 1, 'investments.\"': 1, 'intermediaries': 1, 'facilitate': 1, 'flow': 1, 'funds': 1, 'savers': 1, 'borrowers': 1, 'economy.\"': 1, 'provide': 1, 'invest': 1, 'companies': 1, 'participate': 1, 'growth.\"': 1, 'environment': 1, 'services': 1, 'constantly': 1, 'evolving': 1, 'address': 1, 'emerging': 1, 'risks': 2, 'challenges.\"': 1, 'engineering': 1, 'allow': 1, 'firms': 1, 'manage': 1, 'optimize': 1, 'structures.\"': 1, 'empowers': 1, 'borrowing,': 1, 'saving,': 1, 'investing.\"': 1, 'demand': 1, 'dynamics.\"': 1, 'globalization': 1, 'has': 1, 'increased': 1, 'interconnectedness': 1, 'transmission': 1, 'shocks.\"': 1, 'pivotal': 1, 'transactions': 1, 'efficiently.\"': 1}\n",
      "{'\"the': 0.002785515320334262, 'financial': 0.01532033426183844, 'markets': 0.012534818941504178, 'are': 0.008356545961002786, 'influenced': 0.006963788300835654, 'by': 0.006963788300835654, 'a': 0.016713091922005572, 'myriad': 0.002785515320334262, 'of': 0.016713091922005572, 'factors,': 0.002785515320334262, 'making': 0.004178272980501393, 'predictions': 0.002785515320334262, 'difficult.\"': 0.002785515320334262, '\"financial': 0.002785515320334262, 'literacy': 0.005571030640668524, 'is': 0.009749303621169917, 'essential': 0.005571030640668524, 'for': 0.012534818941504178, 'informed': 0.004178272980501393, 'decisions': 0.004178272980501393, 'about': 0.004178272980501393, 'investments': 0.002785515320334262, 'and': 0.037604456824512536, 'savings.\"': 0.002785515320334262, 'stock': 0.002785515320334262, 'market': 0.006963788300835654, 'can': 0.008356545961002786, 'be': 0.005571030640668524, 'volatile,': 0.002785515320334262, 'with': 0.004178272980501393, 'prices': 0.004178272980501393, 'fluctuating': 0.002785515320334262, 'based': 0.005571030640668524, 'on': 0.006963788300835654, 'investor': 0.004178272980501393, 'sentiment': 0.002785515320334262, 'economic': 0.009749303621169917, 'indicators.\"': 0.002785515320334262, 'regulations': 0.004178272980501393, 'aim': 0.005571030640668524, 'to': 0.027855153203342618, 'protect': 0.002785515320334262, 'investors': 0.005571030640668524, 'maintain': 0.002785515320334262, 'the': 0.013927576601671309, 'stability': 0.002785515320334262, 'system.\"': 0.002785515320334262, '\"access': 0.002785515320334262, 'credit': 0.002785515320334262, 'capital': 0.006963788300835654, 'promoting': 0.002785515320334262, 'growth': 0.005571030640668524, 'entrepreneurship.\"': 0.002785515320334262, 'institutions': 0.005571030640668524, 'play': 0.008356545961002786, 'crucial': 0.005571030640668524, 'role': 0.008356545961002786, 'in': 0.016713091922005572, 'allocating': 0.008356545961002786, 'facilitating': 0.004178272980501393, 'activity.\"': 0.002785515320334262, 'global': 0.002785515320334262, 'system': 0.002785515320334262, 'interconnected,': 0.002785515320334262, 'events': 0.002785515320334262, 'one': 0.002785515320334262, 'having': 0.002785515320334262, 'ripple': 0.002785515320334262, 'effects': 0.002785515320334262, 'worldwide.\"': 0.002785515320334262, 'derivatives': 0.002785515320334262, 'used': 0.002785515320334262, 'hedge': 0.002785515320334262, 'against': 0.002785515320334262, 'risk': 0.004178272980501393, 'or': 0.002785515320334262, 'speculate': 0.002785515320334262, 'future': 0.002785515320334262, 'price': 0.002785515320334262, 'movements.\"': 0.002785515320334262, 'psychological': 0.002785515320334262, 'factors': 0.002785515320334262, 'such': 0.004178272980501393, 'as': 0.004178272980501393, 'fear,': 0.002785515320334262, 'greed,': 0.002785515320334262, 'optimism.\"': 0.002785515320334262, 'innovations': 0.002785515320334262, 'have': 0.005571030640668524, 'potential': 0.002785515320334262, 'drive': 0.002785515320334262, 'improve': 0.002785515320334262, 'inclusion.\"': 0.002785515320334262, '\"market': 0.002785515320334262, 'inefficiencies': 0.002785515320334262, 'create': 0.002785515320334262, 'opportunities': 0.004178272980501393, 'generate': 0.002785515320334262, 'alpha': 0.002785515320334262, 'through': 0.002785515320334262, 'active': 0.002785515320334262, 'management.\"': 0.002785515320334262, 'programs': 0.002785515320334262, 'empower': 0.002785515320334262, 'individuals': 0.005571030640668524, 'make': 0.004178272980501393, 'sound': 0.002785515320334262, 'decisions.\"': 0.002785515320334262, '\"asset': 0.002785515320334262, 'allocation': 0.004178272980501393, 'key': 0.002785515320334262, 'strategy': 0.002785515320334262, 'managing': 0.002785515320334262, 'achieving': 0.002785515320334262, 'long-term': 0.002785515320334262, 'goals.\"': 0.002785515320334262, 'practice': 0.002785515320334262, 'short': 0.002785515320334262, 'selling': 0.002785515320334262, 'allows': 0.002785515320334262, 'profit': 0.002785515320334262, 'from': 0.002785515320334262, 'declining': 0.002785515320334262, 'markets.\"': 0.002785515320334262, 'macroeconomic': 0.002785515320334262, 'indicators': 0.002785515320334262, 'gdp': 0.002785515320334262, 'inflation': 0.002785515320334262, 'rates.\"': 0.002785515320334262, '\"algorithmic': 0.002785515320334262, 'trading': 0.002785515320334262, 'strategies': 0.002785515320334262, 'contribute': 0.002785515320334262, 'liquidity': 0.002785515320334262, 'but': 0.002785515320334262, 'also': 0.002785515320334262, 'increase': 0.002785515320334262, 'systemic': 0.002785515320334262, 'risk.\"': 0.002785515320334262, 'advisors': 0.002785515320334262, 'fiduciary': 0.002785515320334262, 'duty': 0.002785515320334262, 'act': 0.002785515320334262, 'best': 0.002785515320334262, 'interests': 0.002785515320334262, 'their': 0.004178272980501393, 'clients.\"': 0.002785515320334262, 'crises': 0.002785515320334262, 'far-reaching': 0.002785515320334262, 'consequences': 0.002785515320334262, 'economies': 0.002785515320334262, 'societies,': 0.002785515320334262, 'requiring': 0.002785515320334262, 'coordinated': 0.002785515320334262, 'responses.\"': 0.002785515320334262, 'resources': 0.005571030640668524, 'pricing': 0.004178272980501393, 'assets': 0.004178272980501393, 'supply': 0.004178272980501393, 'demand.\"': 0.002785515320334262, 'education': 0.002785515320334262, 'should': 0.002785515320334262, 'integrated': 0.002785515320334262, 'into': 0.002785515320334262, 'school': 0.002785515320334262, 'curricula': 0.002785515320334262, 'promote': 0.002785515320334262, 'responsible': 0.002785515320334262, 'behavior.\"': 0.002785515320334262, 'analysts': 0.002785515320334262, 'use': 0.002785515320334262, 'variety': 0.002785515320334262, 'tools': 0.002785515320334262, 'techniques': 0.004178272980501393, 'evaluate': 0.002785515320334262, 'investment': 0.005571030640668524, 'opportunities.\"': 0.002785515320334262, 'principles': 0.002785515320334262, 'diversification': 0.002785515320334262, 'asset': 0.002785515320334262, 'fundamental': 0.002785515320334262, 'building': 0.002785515320334262, 'resilient': 0.002785515320334262, 'portfolio.\"': 0.002785515320334262, 'geopolitical': 0.002785515320334262, 'events,': 0.002785515320334262, 'government': 0.002785515320334262, 'policies,': 0.002785515320334262, 'regulatory': 0.004178272980501393, 'changes.\"': 0.002785515320334262, 'strike': 0.002785515320334262, 'balance': 0.002785515320334262, 'between': 0.004178272980501393, 'innovation': 0.002785515320334262, 'protection.\"': 0.002785515320334262, 'concept': 0.002785515320334262, 'risk-adjusted': 0.002785515320334262, 'returns': 0.002785515320334262, 'evaluating': 0.002785515320334262, 'performance': 0.002785515320334262, 'portfolios.\"': 0.002785515320334262, 'critical': 0.002785515320334262, 'productive': 0.002785515320334262, 'investments.\"': 0.002785515320334262, 'intermediaries': 0.002785515320334262, 'facilitate': 0.002785515320334262, 'flow': 0.002785515320334262, 'funds': 0.002785515320334262, 'savers': 0.002785515320334262, 'borrowers': 0.002785515320334262, 'economy.\"': 0.002785515320334262, 'provide': 0.002785515320334262, 'invest': 0.002785515320334262, 'companies': 0.002785515320334262, 'participate': 0.002785515320334262, 'growth.\"': 0.002785515320334262, 'environment': 0.002785515320334262, 'services': 0.002785515320334262, 'constantly': 0.002785515320334262, 'evolving': 0.002785515320334262, 'address': 0.002785515320334262, 'emerging': 0.002785515320334262, 'risks': 0.004178272980501393, 'challenges.\"': 0.002785515320334262, 'engineering': 0.002785515320334262, 'allow': 0.002785515320334262, 'firms': 0.002785515320334262, 'manage': 0.002785515320334262, 'optimize': 0.002785515320334262, 'structures.\"': 0.002785515320334262, 'empowers': 0.002785515320334262, 'borrowing,': 0.002785515320334262, 'saving,': 0.002785515320334262, 'investing.\"': 0.002785515320334262, 'demand': 0.002785515320334262, 'dynamics.\"': 0.002785515320334262, 'globalization': 0.002785515320334262, 'has': 0.002785515320334262, 'increased': 0.002785515320334262, 'interconnectedness': 0.002785515320334262, 'transmission': 0.002785515320334262, 'shocks.\"': 0.002785515320334262, 'pivotal': 0.002785515320334262, 'transactions': 0.002785515320334262, 'efficiently.\"': 0.002785515320334262}\n"
     ]
    }
   ],
   "source": [
    "spam_count = {}\n",
    "spam_percentage = {}\n",
    "\n",
    "\n",
    "spam_corpus = [X[i] for i in range(len(y)) if y[i] == 'positive']\n",
    "\n",
    "\n",
    "for text in spam_corpus:\n",
    "    for word in text.split():\n",
    "        if word in spam_count.keys():\n",
    "            spam_count[word.lower()] += 1\n",
    "        else:\n",
    "            spam_count[word.lower()] = 1\n",
    "\n",
    "\n",
    "for word, value in spam_count.items():\n",
    "    if word not in spam_percentage.keys():\n",
    "        # spam_percentage[word] = value / sum(spam_count.values())\n",
    "        spam_percentage[word.lower()] = (value + 1) / (sum(spam_count.values()) + len(vocab))\n",
    "\n",
    "\n",
    "print(spam_count)\n",
    "print(spam_percentage)"
   ]
  },
  {
   "cell_type": "code",
   "execution_count": 30,
   "metadata": {},
   "outputs": [
    {
     "name": "stdout",
     "output_type": "stream",
     "text": [
      "{'\"the': 1, 'complexity': 2, 'of': 8, 'financial': 5, 'products': 1, 'can': 6, 'make': 1, 'it': 1, 'challenging': 1, 'for': 3, 'consumers': 1, 'to': 9, 'understand': 1, 'their': 3, 'risks.\"': 2, '\"high-frequency': 1, 'trading': 1, 'algorithms': 1, 'exacerbate': 1, 'market': 4, 'volatility': 2, 'and': 10, 'lead': 3, 'flash': 1, 'crashes.\"': 1, '\"credit': 1, 'rating': 1, 'agencies': 1, 'are': 3, 'susceptible': 2, 'conflicts': 1, 'interest': 1, 'may': 1, 'not': 1, 'always': 1, 'provide': 1, 'accurate': 1, 'assessments.\"': 1, '\"financial': 1, 'bubbles': 2, 'form': 1, 'when': 2, 'asset': 2, 'prices': 2, 'become': 2, 'disconnected': 1, 'from': 2, 'intrinsic': 1, 'value.\"': 1, 'use': 2, 'leverage': 2, 'in': 5, 'markets': 4, 'amplifies': 2, 'both': 2, 'gains': 2, 'losses': 1, 'investors.\"': 1, 'regulators': 1, 'face': 1, 'challenges': 1, 'keeping': 1, 'pace': 1, 'with': 1, 'rapid': 1, 'technological': 1, 'advancements': 1, 'the': 3, 'industry.\"': 1, 'instruments': 1, 'obscure': 1, 'underlying': 2, 'risks': 2, 'distortions.\"': 2, 'practice': 1, 'front-running': 1, 'undermines': 1, 'trust': 1, 'integrity.\"': 2, 'institutions': 1, 'vulnerable': 1, 'cyber': 1, 'attacks': 1, 'data': 1, 'breaches,': 1, 'posing': 1, 'customer': 1, 'information.\"': 1, 'pursuit': 1, 'short-term': 1, 'profits': 1, 'unsustainable': 1, 'practices': 1, 'manipulation': 1, 'insider': 1, 'trading,': 1, 'undermining': 1, 'financialization': 1, 'economy': 1, 'has': 1, 'led': 1, 'increased': 1, 'systemic': 1, 'losses,': 1, 'increasing': 1, 'potential': 1, 'volatility.\"': 1, 'arise': 1, 'detached': 1, 'fundamentals.\"': 1}\n",
      "{'\"the': 0.00437636761487965, 'complexity': 0.006564551422319475, 'of': 0.019693654266958426, 'financial': 0.01312910284463895, 'products': 0.00437636761487965, 'can': 0.015317286652078774, 'make': 0.00437636761487965, 'it': 0.00437636761487965, 'challenging': 0.00437636761487965, 'for': 0.0087527352297593, 'consumers': 0.00437636761487965, 'to': 0.02188183807439825, 'understand': 0.00437636761487965, 'their': 0.0087527352297593, 'risks.\"': 0.006564551422319475, '\"high-frequency': 0.00437636761487965, 'trading': 0.00437636761487965, 'algorithms': 0.00437636761487965, 'exacerbate': 0.00437636761487965, 'market': 0.010940919037199124, 'volatility': 0.006564551422319475, 'and': 0.024070021881838075, 'lead': 0.0087527352297593, 'flash': 0.00437636761487965, 'crashes.\"': 0.00437636761487965, '\"credit': 0.00437636761487965, 'rating': 0.00437636761487965, 'agencies': 0.00437636761487965, 'are': 0.0087527352297593, 'susceptible': 0.006564551422319475, 'conflicts': 0.00437636761487965, 'interest': 0.00437636761487965, 'may': 0.00437636761487965, 'not': 0.00437636761487965, 'always': 0.00437636761487965, 'provide': 0.00437636761487965, 'accurate': 0.00437636761487965, 'assessments.\"': 0.00437636761487965, '\"financial': 0.00437636761487965, 'bubbles': 0.006564551422319475, 'form': 0.00437636761487965, 'when': 0.006564551422319475, 'asset': 0.006564551422319475, 'prices': 0.006564551422319475, 'become': 0.006564551422319475, 'disconnected': 0.00437636761487965, 'from': 0.006564551422319475, 'intrinsic': 0.00437636761487965, 'value.\"': 0.00437636761487965, 'use': 0.006564551422319475, 'leverage': 0.006564551422319475, 'in': 0.01312910284463895, 'markets': 0.010940919037199124, 'amplifies': 0.006564551422319475, 'both': 0.006564551422319475, 'gains': 0.006564551422319475, 'losses': 0.00437636761487965, 'investors.\"': 0.00437636761487965, 'regulators': 0.00437636761487965, 'face': 0.00437636761487965, 'challenges': 0.00437636761487965, 'keeping': 0.00437636761487965, 'pace': 0.00437636761487965, 'with': 0.00437636761487965, 'rapid': 0.00437636761487965, 'technological': 0.00437636761487965, 'advancements': 0.00437636761487965, 'the': 0.0087527352297593, 'industry.\"': 0.00437636761487965, 'instruments': 0.00437636761487965, 'obscure': 0.00437636761487965, 'underlying': 0.006564551422319475, 'risks': 0.006564551422319475, 'distortions.\"': 0.006564551422319475, 'practice': 0.00437636761487965, 'front-running': 0.00437636761487965, 'undermines': 0.00437636761487965, 'trust': 0.00437636761487965, 'integrity.\"': 0.006564551422319475, 'institutions': 0.00437636761487965, 'vulnerable': 0.00437636761487965, 'cyber': 0.00437636761487965, 'attacks': 0.00437636761487965, 'data': 0.00437636761487965, 'breaches,': 0.00437636761487965, 'posing': 0.00437636761487965, 'customer': 0.00437636761487965, 'information.\"': 0.00437636761487965, 'pursuit': 0.00437636761487965, 'short-term': 0.00437636761487965, 'profits': 0.00437636761487965, 'unsustainable': 0.00437636761487965, 'practices': 0.00437636761487965, 'manipulation': 0.00437636761487965, 'insider': 0.00437636761487965, 'trading,': 0.00437636761487965, 'undermining': 0.00437636761487965, 'financialization': 0.00437636761487965, 'economy': 0.00437636761487965, 'has': 0.00437636761487965, 'led': 0.00437636761487965, 'increased': 0.00437636761487965, 'systemic': 0.00437636761487965, 'losses,': 0.00437636761487965, 'increasing': 0.00437636761487965, 'potential': 0.00437636761487965, 'volatility.\"': 0.00437636761487965, 'arise': 0.00437636761487965, 'detached': 0.00437636761487965, 'fundamentals.\"': 0.00437636761487965}\n"
     ]
    }
   ],
   "source": [
    "ham_count = {}\n",
    "ham_percentage = {}\n",
    "\n",
    "\n",
    "ham_corpus = [X[i] for i in range(len(y)) if y[i] == 'negative']\n",
    "\n",
    "\n",
    "for text in ham_corpus:\n",
    "    for word in text.split():\n",
    "        if word in ham_count.keys():\n",
    "            ham_count[word.lower()] += 1\n",
    "        else:\n",
    "            ham_count[word.lower()] = 1\n",
    "\n",
    "\n",
    "for word, value in ham_count.items():\n",
    "    if word not in ham_percentage.keys():\n",
    "        # ham_percentage[word] = value / sum(ham_count.values())\n",
    "        ham_percentage[word.lower()] = (value + 1) / (sum(ham_count.values()) + len(vocab))\n",
    "\n",
    "\n",
    "print(ham_count)\n",
    "print(ham_percentage)"
   ]
  },
  {
   "cell_type": "code",
   "execution_count": 36,
   "metadata": {},
   "outputs": [],
   "source": [
    "def likelihood(word, class_name, pos_classes_num, neg_classes_num):\n",
    "    if class_name == \"positive\":\n",
    "        return spam_percentage.get(word, 1 / pos_classes_num)\n",
    "    elif class_name == \"negative\":\n",
    "        return ham_percentage.get(word, 1 / neg_classes_num)\n",
    "\n",
    "\n",
    "def priori(class_name):\n",
    "    return len(y[ y == class_name ]) / len(y)\n",
    "\n",
    "\n",
    "def posteri(sentence):\n",
    "    global ham_count, spam_count\n",
    "\n",
    "    preprocessed_sentence = remove_stopwords(sentence)\n",
    "    probability_class = []\n",
    "    classes = [\"positive\", \"negative\"]\n",
    "    print(preprocessed_sentence)\n",
    "\n",
    "    for class_name in classes:\n",
    "\n",
    "        priori_prob = priori(class_name)\n",
    "        word_likelihood = 1\n",
    "\n",
    "        for word in preprocessed_sentence.split():\n",
    "                word_likelihood *= likelihood(word, class_name, len(vocab), len(vocab))\n",
    "                # word_likelihood += likelihood(word, class_name, len(vocab), len(vocab))\n",
    "\n",
    "        probability_class.append( word_likelihood * priori_prob )        \n",
    "\n",
    "    print(probability_class)    \n",
    "    return classes[probability_class.index(max(probability_class))]"
   ]
  },
  {
   "cell_type": "code",
   "execution_count": 42,
   "metadata": {},
   "outputs": [
    {
     "name": "stdout",
     "output_type": "stream",
     "text": [
      "financial institutions play critical role allocating capital productive investments\n",
      "[1.249381786194547e-21, 8.051350601718848e-23]\n"
     ]
    },
    {
     "data": {
      "text/plain": [
       "'positive'"
      ]
     },
     "execution_count": 42,
     "metadata": {},
     "output_type": "execute_result"
    }
   ],
   "source": [
    "posteri(\"Financial institutions play a critical role in allocating capital to productive investments.\")"
   ]
  },
  {
   "cell_type": "code",
   "execution_count": null,
   "metadata": {},
   "outputs": [],
   "source": []
  }
 ],
 "metadata": {
  "kernelspec": {
   "display_name": "Python 3",
   "language": "python",
   "name": "python3"
  },
  "language_info": {
   "codemirror_mode": {
    "name": "ipython",
    "version": 3
   },
   "file_extension": ".py",
   "mimetype": "text/x-python",
   "name": "python",
   "nbconvert_exporter": "python",
   "pygments_lexer": "ipython3",
   "version": "3.12.5"
  }
 },
 "nbformat": 4,
 "nbformat_minor": 2
}
